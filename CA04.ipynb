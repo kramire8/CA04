{
  "nbformat": 4,
  "nbformat_minor": 0,
  "metadata": {
    "colab": {
      "name": "CA04",
      "provenance": []
    },
    "kernelspec": {
      "name": "python3",
      "display_name": "Python 3"
    }
  },
  "cells": [
    {
      "cell_type": "markdown",
      "metadata": {
        "id": "fQIU1ikK4PYN"
      },
      "source": [
        "#Ensemble Models"
      ]
    },
    {
      "cell_type": "markdown",
      "metadata": {
        "id": "aybvOFVh4X5f"
      },
      "source": [
        "###1. Data Source and Contents"
      ]
    },
    {
      "cell_type": "code",
      "metadata": {
        "id": "MTK4LGPA4vtf"
      },
      "source": [
        "# import packages\r\n",
        "import pandas as pd\r\n",
        "import numpy as np\r\n",
        "from sklearn.impute import SimpleImputer\r\n",
        "import matplotlib.pyplot as plt \r\n",
        "from sklearn.preprocessing import LabelEncoder\r\n",
        "from sklearn.tree import DecisionTreeClassifier\r\n",
        "from sklearn.ensemble import RandomForestClassifier, AdaBoostClassifier, GradientBoostingClassifier\r\n",
        "from xgboost import XGBClassifier\r\n",
        "from sklearn.metrics import confusion_matrix, accuracy_score, precision_score, f1_score, roc_curve, roc_auc_score, recall_score, auc"
      ],
      "execution_count": 26,
      "outputs": []
    },
    {
      "cell_type": "code",
      "metadata": {
        "id": "ZzjozqV446CW"
      },
      "source": [
        "# read csv\r\n",
        "data = pd.read_csv('census_data.csv')"
      ],
      "execution_count": 27,
      "outputs": []
    },
    {
      "cell_type": "code",
      "metadata": {
        "colab": {
          "base_uri": "https://localhost:8080/",
          "height": 514
        },
        "id": "4KFLmD5f9myW",
        "outputId": "cfdc64aa-f814-4e67-c00f-c8fea576fec2"
      },
      "source": [
        "# descriptions\r\n",
        "data.describe \r\n",
        "\r\n",
        "# non-null values in each column \r\n",
        "data.count()\r\n",
        "\r\n",
        "# nulls in each row \r\n",
        "data.isnull().sum()\r\n",
        "\r\n",
        "# range, column, number of non-null objects of each column, datatype and memory usage \r\n",
        "data.info()\r\n",
        "\r\n",
        "# show head & tail\r\n",
        "data.tail()\r\n",
        "data.head()"
      ],
      "execution_count": null,
      "outputs": [
        {
          "output_type": "stream",
          "text": [
            "<class 'pandas.core.frame.DataFrame'>\n",
            "RangeIndex: 48842 entries, 0 to 48841\n",
            "Data columns (total 11 columns):\n",
            " #   Column              Non-Null Count  Dtype \n",
            "---  ------              --------------  ----- \n",
            " 0   hours_per_week_bin  48842 non-null  object\n",
            " 1   occupation_bin      48842 non-null  object\n",
            " 2   msr_bin             48842 non-null  object\n",
            " 3   capital_gl_bin      48842 non-null  object\n",
            " 4   race_sex_bin        48842 non-null  object\n",
            " 5   education_num_bin   48842 non-null  object\n",
            " 6   education_bin       48842 non-null  object\n",
            " 7   workclass_bin       48842 non-null  object\n",
            " 8   age_bin             48842 non-null  object\n",
            " 9   flag                48842 non-null  object\n",
            " 10  y                   48842 non-null  int64 \n",
            "dtypes: int64(1), object(10)\n",
            "memory usage: 4.1+ MB\n"
          ],
          "name": "stdout"
        },
        {
          "output_type": "execute_result",
          "data": {
            "text/html": [
              "<div>\n",
              "<style scoped>\n",
              "    .dataframe tbody tr th:only-of-type {\n",
              "        vertical-align: middle;\n",
              "    }\n",
              "\n",
              "    .dataframe tbody tr th {\n",
              "        vertical-align: top;\n",
              "    }\n",
              "\n",
              "    .dataframe thead th {\n",
              "        text-align: right;\n",
              "    }\n",
              "</style>\n",
              "<table border=\"1\" class=\"dataframe\">\n",
              "  <thead>\n",
              "    <tr style=\"text-align: right;\">\n",
              "      <th></th>\n",
              "      <th>hours_per_week_bin</th>\n",
              "      <th>occupation_bin</th>\n",
              "      <th>msr_bin</th>\n",
              "      <th>capital_gl_bin</th>\n",
              "      <th>race_sex_bin</th>\n",
              "      <th>education_num_bin</th>\n",
              "      <th>education_bin</th>\n",
              "      <th>workclass_bin</th>\n",
              "      <th>age_bin</th>\n",
              "      <th>flag</th>\n",
              "      <th>y</th>\n",
              "    </tr>\n",
              "  </thead>\n",
              "  <tbody>\n",
              "    <tr>\n",
              "      <th>0</th>\n",
              "      <td>b. 31-40</td>\n",
              "      <td>b. Mid - Low</td>\n",
              "      <td>b. Mid</td>\n",
              "      <td>c. &gt; 0</td>\n",
              "      <td>c. High</td>\n",
              "      <td>c. 13</td>\n",
              "      <td>c. Bachelors</td>\n",
              "      <td>b. income</td>\n",
              "      <td>d. 36-40 &amp; 56-60</td>\n",
              "      <td>train</td>\n",
              "      <td>0</td>\n",
              "    </tr>\n",
              "    <tr>\n",
              "      <th>1</th>\n",
              "      <td>a. 0-30</td>\n",
              "      <td>e. High</td>\n",
              "      <td>c. High</td>\n",
              "      <td>a. = 0</td>\n",
              "      <td>c. High</td>\n",
              "      <td>c. 13</td>\n",
              "      <td>c. Bachelors</td>\n",
              "      <td>b. income</td>\n",
              "      <td>e. 40-55</td>\n",
              "      <td>train</td>\n",
              "      <td>0</td>\n",
              "    </tr>\n",
              "    <tr>\n",
              "      <th>2</th>\n",
              "      <td>b. 31-40</td>\n",
              "      <td>a. Low</td>\n",
              "      <td>b. Mid</td>\n",
              "      <td>a. = 0</td>\n",
              "      <td>c. High</td>\n",
              "      <td>b. 9-12</td>\n",
              "      <td>b. Mid</td>\n",
              "      <td>b. income</td>\n",
              "      <td>d. 36-40 &amp; 56-60</td>\n",
              "      <td>train</td>\n",
              "      <td>0</td>\n",
              "    </tr>\n",
              "    <tr>\n",
              "      <th>3</th>\n",
              "      <td>b. 31-40</td>\n",
              "      <td>a. Low</td>\n",
              "      <td>c. High</td>\n",
              "      <td>a. = 0</td>\n",
              "      <td>b. Mid</td>\n",
              "      <td>a. 0-8</td>\n",
              "      <td>a. Low</td>\n",
              "      <td>b. income</td>\n",
              "      <td>e. 40-55</td>\n",
              "      <td>train</td>\n",
              "      <td>0</td>\n",
              "    </tr>\n",
              "    <tr>\n",
              "      <th>4</th>\n",
              "      <td>b. 31-40</td>\n",
              "      <td>e. High</td>\n",
              "      <td>c. High</td>\n",
              "      <td>a. = 0</td>\n",
              "      <td>a. Low</td>\n",
              "      <td>c. 13</td>\n",
              "      <td>c. Bachelors</td>\n",
              "      <td>b. income</td>\n",
              "      <td>b. 26-30 &amp; 71-100</td>\n",
              "      <td>train</td>\n",
              "      <td>0</td>\n",
              "    </tr>\n",
              "  </tbody>\n",
              "</table>\n",
              "</div>"
            ],
            "text/plain": [
              "  hours_per_week_bin occupation_bin  msr_bin  ...            age_bin   flag  y\n",
              "0           b. 31-40   b. Mid - Low   b. Mid  ...   d. 36-40 & 56-60  train  0\n",
              "1            a. 0-30        e. High  c. High  ...           e. 40-55  train  0\n",
              "2           b. 31-40         a. Low   b. Mid  ...   d. 36-40 & 56-60  train  0\n",
              "3           b. 31-40         a. Low  c. High  ...           e. 40-55  train  0\n",
              "4           b. 31-40        e. High  c. High  ...  b. 26-30 & 71-100  train  0\n",
              "\n",
              "[5 rows x 11 columns]"
            ]
          },
          "metadata": {
            "tags": []
          },
          "execution_count": 3
        }
      ]
    },
    {
      "cell_type": "code",
      "metadata": {
        "id": "x8l03M5F6sBp"
      },
      "source": [
        "# dataframe that only includes the columns that are needed\r\n",
        "inputs = data.drop(['education_num_bin', 'workclass_bin'], axis = 'columns')"
      ],
      "execution_count": null,
      "outputs": []
    },
    {
      "cell_type": "code",
      "metadata": {
        "id": "1zHwjrba5-UI"
      },
      "source": [
        "# encoding inputs\r\n",
        "le_hours_per_week_bin = LabelEncoder()\r\n",
        "le_occupation_bin = LabelEncoder()\r\n",
        "le_msr_bin = LabelEncoder()\r\n",
        "le_capital_gl_bin = LabelEncoder()\r\n",
        "le_race_sex_bin = LabelEncoder()\r\n",
        "le_education_bin = LabelEncoder()\r\n",
        "le_age_bin = LabelEncoder()"
      ],
      "execution_count": null,
      "outputs": []
    },
    {
      "cell_type": "code",
      "metadata": {
        "id": "yi5j1bx-55Fz",
        "colab": {
          "base_uri": "https://localhost:8080/",
          "height": 281
        },
        "outputId": "6c339850-3469-45b6-9c36-21489d075b55"
      },
      "source": [
        "# creating an extra column for the label encoded inputs\r\n",
        "inputs['hours_per_week_bin_n'] = le_hours_per_week_bin.fit_transform(inputs['hours_per_week_bin'])\r\n",
        "inputs['occupation_bin_n'] = le_occupation_bin.fit_transform(inputs['occupation_bin'])\r\n",
        "inputs['msr_bin_n'] = le_msr_bin.fit_transform(inputs['msr_bin'])\r\n",
        "inputs['capital_gl_bin_n'] = le_capital_gl_bin.fit_transform(inputs['capital_gl_bin'])\r\n",
        "inputs['race_sex_bin_n'] = le_race_sex_bin.fit_transform(inputs['race_sex_bin'])\r\n",
        "inputs['education_bin_n'] = le_education_bin.fit_transform(inputs['education_bin'])\r\n",
        "inputs['age_bin_n'] = le_age_bin.fit_transform(inputs['age_bin'])\r\n",
        "inputs.head()"
      ],
      "execution_count": null,
      "outputs": [
        {
          "output_type": "execute_result",
          "data": {
            "text/html": [
              "<div>\n",
              "<style scoped>\n",
              "    .dataframe tbody tr th:only-of-type {\n",
              "        vertical-align: middle;\n",
              "    }\n",
              "\n",
              "    .dataframe tbody tr th {\n",
              "        vertical-align: top;\n",
              "    }\n",
              "\n",
              "    .dataframe thead th {\n",
              "        text-align: right;\n",
              "    }\n",
              "</style>\n",
              "<table border=\"1\" class=\"dataframe\">\n",
              "  <thead>\n",
              "    <tr style=\"text-align: right;\">\n",
              "      <th></th>\n",
              "      <th>hours_per_week_bin</th>\n",
              "      <th>occupation_bin</th>\n",
              "      <th>msr_bin</th>\n",
              "      <th>capital_gl_bin</th>\n",
              "      <th>race_sex_bin</th>\n",
              "      <th>education_bin</th>\n",
              "      <th>age_bin</th>\n",
              "      <th>flag</th>\n",
              "      <th>y</th>\n",
              "      <th>hours_per_week_bin_n</th>\n",
              "      <th>occupation_bin_n</th>\n",
              "      <th>msr_bin_n</th>\n",
              "      <th>capital_gl_bin_n</th>\n",
              "      <th>race_sex_bin_n</th>\n",
              "      <th>education_bin_n</th>\n",
              "      <th>age_bin_n</th>\n",
              "    </tr>\n",
              "  </thead>\n",
              "  <tbody>\n",
              "    <tr>\n",
              "      <th>0</th>\n",
              "      <td>b. 31-40</td>\n",
              "      <td>b. Mid - Low</td>\n",
              "      <td>b. Mid</td>\n",
              "      <td>c. &gt; 0</td>\n",
              "      <td>c. High</td>\n",
              "      <td>c. Bachelors</td>\n",
              "      <td>d. 36-40 &amp; 56-60</td>\n",
              "      <td>train</td>\n",
              "      <td>0</td>\n",
              "      <td>1</td>\n",
              "      <td>1</td>\n",
              "      <td>1</td>\n",
              "      <td>2</td>\n",
              "      <td>2</td>\n",
              "      <td>2</td>\n",
              "      <td>3</td>\n",
              "    </tr>\n",
              "    <tr>\n",
              "      <th>1</th>\n",
              "      <td>a. 0-30</td>\n",
              "      <td>e. High</td>\n",
              "      <td>c. High</td>\n",
              "      <td>a. = 0</td>\n",
              "      <td>c. High</td>\n",
              "      <td>c. Bachelors</td>\n",
              "      <td>e. 40-55</td>\n",
              "      <td>train</td>\n",
              "      <td>0</td>\n",
              "      <td>0</td>\n",
              "      <td>4</td>\n",
              "      <td>2</td>\n",
              "      <td>0</td>\n",
              "      <td>2</td>\n",
              "      <td>2</td>\n",
              "      <td>4</td>\n",
              "    </tr>\n",
              "    <tr>\n",
              "      <th>2</th>\n",
              "      <td>b. 31-40</td>\n",
              "      <td>a. Low</td>\n",
              "      <td>b. Mid</td>\n",
              "      <td>a. = 0</td>\n",
              "      <td>c. High</td>\n",
              "      <td>b. Mid</td>\n",
              "      <td>d. 36-40 &amp; 56-60</td>\n",
              "      <td>train</td>\n",
              "      <td>0</td>\n",
              "      <td>1</td>\n",
              "      <td>0</td>\n",
              "      <td>1</td>\n",
              "      <td>0</td>\n",
              "      <td>2</td>\n",
              "      <td>1</td>\n",
              "      <td>3</td>\n",
              "    </tr>\n",
              "    <tr>\n",
              "      <th>3</th>\n",
              "      <td>b. 31-40</td>\n",
              "      <td>a. Low</td>\n",
              "      <td>c. High</td>\n",
              "      <td>a. = 0</td>\n",
              "      <td>b. Mid</td>\n",
              "      <td>a. Low</td>\n",
              "      <td>e. 40-55</td>\n",
              "      <td>train</td>\n",
              "      <td>0</td>\n",
              "      <td>1</td>\n",
              "      <td>0</td>\n",
              "      <td>2</td>\n",
              "      <td>0</td>\n",
              "      <td>1</td>\n",
              "      <td>0</td>\n",
              "      <td>4</td>\n",
              "    </tr>\n",
              "    <tr>\n",
              "      <th>4</th>\n",
              "      <td>b. 31-40</td>\n",
              "      <td>e. High</td>\n",
              "      <td>c. High</td>\n",
              "      <td>a. = 0</td>\n",
              "      <td>a. Low</td>\n",
              "      <td>c. Bachelors</td>\n",
              "      <td>b. 26-30 &amp; 71-100</td>\n",
              "      <td>train</td>\n",
              "      <td>0</td>\n",
              "      <td>1</td>\n",
              "      <td>4</td>\n",
              "      <td>2</td>\n",
              "      <td>0</td>\n",
              "      <td>0</td>\n",
              "      <td>2</td>\n",
              "      <td>1</td>\n",
              "    </tr>\n",
              "  </tbody>\n",
              "</table>\n",
              "</div>"
            ],
            "text/plain": [
              "  hours_per_week_bin occupation_bin  ... education_bin_n age_bin_n\n",
              "0           b. 31-40   b. Mid - Low  ...               2         3\n",
              "1            a. 0-30        e. High  ...               2         4\n",
              "2           b. 31-40         a. Low  ...               1         3\n",
              "3           b. 31-40         a. Low  ...               0         4\n",
              "4           b. 31-40        e. High  ...               2         1\n",
              "\n",
              "[5 rows x 16 columns]"
            ]
          },
          "metadata": {
            "tags": []
          },
          "execution_count": 6
        }
      ]
    },
    {
      "cell_type": "code",
      "metadata": {
        "id": "jiTB9gri64Yr",
        "colab": {
          "base_uri": "https://localhost:8080/",
          "height": 194
        },
        "outputId": "44b195ba-f734-4d52-a315-0c322f808843"
      },
      "source": [
        "# create new dataframe with just the label encoded columns \r\n",
        "inputs = inputs.drop(['hours_per_week_bin', 'occupation_bin', 'msr_bin', \r\n",
        "                        'capital_gl_bin', 'race_sex_bin', 'education_bin',\r\n",
        "                        'age_bin'], axis = 'columns')\r\n",
        "inputs.head()"
      ],
      "execution_count": null,
      "outputs": [
        {
          "output_type": "execute_result",
          "data": {
            "text/html": [
              "<div>\n",
              "<style scoped>\n",
              "    .dataframe tbody tr th:only-of-type {\n",
              "        vertical-align: middle;\n",
              "    }\n",
              "\n",
              "    .dataframe tbody tr th {\n",
              "        vertical-align: top;\n",
              "    }\n",
              "\n",
              "    .dataframe thead th {\n",
              "        text-align: right;\n",
              "    }\n",
              "</style>\n",
              "<table border=\"1\" class=\"dataframe\">\n",
              "  <thead>\n",
              "    <tr style=\"text-align: right;\">\n",
              "      <th></th>\n",
              "      <th>flag</th>\n",
              "      <th>y</th>\n",
              "      <th>hours_per_week_bin_n</th>\n",
              "      <th>occupation_bin_n</th>\n",
              "      <th>msr_bin_n</th>\n",
              "      <th>capital_gl_bin_n</th>\n",
              "      <th>race_sex_bin_n</th>\n",
              "      <th>education_bin_n</th>\n",
              "      <th>age_bin_n</th>\n",
              "    </tr>\n",
              "  </thead>\n",
              "  <tbody>\n",
              "    <tr>\n",
              "      <th>0</th>\n",
              "      <td>train</td>\n",
              "      <td>0</td>\n",
              "      <td>1</td>\n",
              "      <td>1</td>\n",
              "      <td>1</td>\n",
              "      <td>2</td>\n",
              "      <td>2</td>\n",
              "      <td>2</td>\n",
              "      <td>3</td>\n",
              "    </tr>\n",
              "    <tr>\n",
              "      <th>1</th>\n",
              "      <td>train</td>\n",
              "      <td>0</td>\n",
              "      <td>0</td>\n",
              "      <td>4</td>\n",
              "      <td>2</td>\n",
              "      <td>0</td>\n",
              "      <td>2</td>\n",
              "      <td>2</td>\n",
              "      <td>4</td>\n",
              "    </tr>\n",
              "    <tr>\n",
              "      <th>2</th>\n",
              "      <td>train</td>\n",
              "      <td>0</td>\n",
              "      <td>1</td>\n",
              "      <td>0</td>\n",
              "      <td>1</td>\n",
              "      <td>0</td>\n",
              "      <td>2</td>\n",
              "      <td>1</td>\n",
              "      <td>3</td>\n",
              "    </tr>\n",
              "    <tr>\n",
              "      <th>3</th>\n",
              "      <td>train</td>\n",
              "      <td>0</td>\n",
              "      <td>1</td>\n",
              "      <td>0</td>\n",
              "      <td>2</td>\n",
              "      <td>0</td>\n",
              "      <td>1</td>\n",
              "      <td>0</td>\n",
              "      <td>4</td>\n",
              "    </tr>\n",
              "    <tr>\n",
              "      <th>4</th>\n",
              "      <td>train</td>\n",
              "      <td>0</td>\n",
              "      <td>1</td>\n",
              "      <td>4</td>\n",
              "      <td>2</td>\n",
              "      <td>0</td>\n",
              "      <td>0</td>\n",
              "      <td>2</td>\n",
              "      <td>1</td>\n",
              "    </tr>\n",
              "  </tbody>\n",
              "</table>\n",
              "</div>"
            ],
            "text/plain": [
              "    flag  y  hours_per_week_bin_n  ...  race_sex_bin_n  education_bin_n  age_bin_n\n",
              "0  train  0                     1  ...               2                2          3\n",
              "1  train  0                     0  ...               2                2          4\n",
              "2  train  0                     1  ...               2                1          3\n",
              "3  train  0                     1  ...               1                0          4\n",
              "4  train  0                     1  ...               0                2          1\n",
              "\n",
              "[5 rows x 9 columns]"
            ]
          },
          "metadata": {
            "tags": []
          },
          "execution_count": 7
        }
      ]
    },
    {
      "cell_type": "code",
      "metadata": {
        "id": "DzlNgFCw7HiX",
        "colab": {
          "base_uri": "https://localhost:8080/"
        },
        "outputId": "454a02b4-42d4-490f-84f2-b66d41575fb5"
      },
      "source": [
        "# separate data by flag type\r\n",
        "testdata = inputs[inputs.flag == 'test']\r\n",
        "traindata = inputs[inputs.flag == 'train']\r\n",
        "\r\n",
        "# separate the y values into different data frames\r\n",
        "y_train = traindata.y\r\n",
        "y_test = testdata.y\r\n",
        "\r\n",
        "# drop flag and y to just have the needed data for train and test\r\n",
        "x_train = traindata.drop(['flag', 'y'], axis = 'columns')\r\n",
        "x_test= testdata.drop(['flag', 'y'], axis = 'columns')\r\n",
        "\r\n",
        "print(y_test)"
      ],
      "execution_count": null,
      "outputs": [
        {
          "output_type": "stream",
          "text": [
            "32561    0\n",
            "32562    0\n",
            "32563    1\n",
            "32564    1\n",
            "32565    0\n",
            "        ..\n",
            "48837    0\n",
            "48838    0\n",
            "48839    0\n",
            "48840    0\n",
            "48841    1\n",
            "Name: y, Length: 16281, dtype: int64\n"
          ],
          "name": "stdout"
        }
      ]
    },
    {
      "cell_type": "markdown",
      "metadata": {
        "id": "jvo8Dy8U4dHW"
      },
      "source": [
        "###2. Finding Optimal Value of a key Hyper-Parameter"
      ]
    },
    {
      "cell_type": "code",
      "metadata": {
        "colab": {
          "base_uri": "https://localhost:8080/",
          "height": 283
        },
        "id": "vB59Strf4wFo",
        "outputId": "c3ac2a58-dc20-4a1a-a417-4c28f634759e"
      },
      "source": [
        "DTCresults = []\r\n",
        "max_depth_options = [2, 4, 6, 8, 10, 12, 14, 16, 18, 20]\r\n",
        "\r\n",
        "for trees in max_depth_options:\r\n",
        "  model = DecisionTreeClassifier(max_depth = trees, random_state = 101)\r\n",
        "  model.fit(x_train, y_train)\r\n",
        "  y_pred = model.predict(x_test)\r\n",
        "  accuracy = np.mean(y_test == y_pred)\r\n",
        "  DTCresults.append(accuracy)\r\n",
        "\r\n",
        "plt.figure(figsize = (8,4))\r\n",
        "pd.Series(DTCresults, max_depth_options).plot(color = 'darkred', marker = 'o')"
      ],
      "execution_count": null,
      "outputs": [
        {
          "output_type": "execute_result",
          "data": {
            "text/plain": [
              "<matplotlib.axes._subplots.AxesSubplot at 0x7fd96737b5d0>"
            ]
          },
          "metadata": {
            "tags": []
          },
          "execution_count": 9
        },
        {
          "output_type": "display_data",
          "data": {
            "image/png": "[encoded data removed]",
            "text/plain": [
              "<Figure size 576x288 with 1 Axes>"
            ]
          },
          "metadata": {
            "tags": [],
            "needs_background": "light"
          }
        }
      ]
    },
    {
      "cell_type": "markdown",
      "metadata": {
        "id": "5yANV6Ev4iOc"
      },
      "source": [
        "###3.Building a Random Forest Model "
      ]
    },
    {
      "cell_type": "code",
      "metadata": {
        "colab": {
          "base_uri": "https://localhost:8080/",
          "height": 283
        },
        "id": "8E5e_ZTXJi1-",
        "outputId": "59658099-bfa4-4ac1-96c6-2269d6450df3"
      },
      "source": [
        "RFMresults = []\r\n",
        "n_estimators_options = [50, 100, 150, 200, 250, 300, 350, 400, 450, 500]\r\n",
        "\r\n",
        "for trees in n_estimators_options:\r\n",
        "  model = RandomForestClassifier(n_estimators = trees, random_state = 101)\r\n",
        "  model.fit(x_train, y_train)\r\n",
        "  y_pred = model.predict(x_test)\r\n",
        "  accuracy = np.mean(y_test == y_pred)\r\n",
        "  RFMresults.append(accuracy)\r\n",
        "\r\n",
        "plt.figure(figsize = (8,4))\r\n",
        "pd.Series(RFMresults, n_estimators_options).plot(color = 'darkred', marker = 'o')"
      ],
      "execution_count": null,
      "outputs": [
        {
          "output_type": "execute_result",
          "data": {
            "text/plain": [
              "<matplotlib.axes._subplots.AxesSubplot at 0x7fd965b53590>"
            ]
          },
          "metadata": {
            "tags": []
          },
          "execution_count": 10
        },
        {
          "output_type": "display_data",
          "data": {
            "image/png": "[encoded data removed]",
            "text/plain": [
              "<Figure size 576x288 with 1 Axes>"
            ]
          },
          "metadata": {
            "tags": [],
            "needs_background": "light"
          }
        }
      ]
    },
    {
      "cell_type": "markdown",
      "metadata": {
        "id": "pY0tR8c54mWo"
      },
      "source": [
        "###4. Building AdaBoost, Gradient Boost (classifier) and XGB Model "
      ]
    },
    {
      "cell_type": "code",
      "metadata": {
        "id": "pWU0l9254xEA",
        "colab": {
          "base_uri": "https://localhost:8080/",
          "height": 283
        },
        "outputId": "a536a118-6bf2-4f22-f402-0e5120ad97d4"
      },
      "source": [
        "# ada boost\r\n",
        "ADAresults = []\r\n",
        "n_estimators_options = [50, 100, 150, 200, 250, 300, 350, 400, 450, 500]\r\n",
        "\r\n",
        "for trees in n_estimators_options:\r\n",
        "  model = AdaBoostClassifier(n_estimators = trees, random_state = 101)\r\n",
        "  model.fit(x_train, y_train)\r\n",
        "  y_pred = model.predict(x_test)\r\n",
        "  accuracy = np.mean(y_test == y_pred)\r\n",
        "  ADAresults.append(accuracy)\r\n",
        "\r\n",
        "plt.figure(figsize = (8,4))\r\n",
        "pd.Series(ADAresults, n_estimators_options).plot(color = 'darkred', marker = 'o')"
      ],
      "execution_count": null,
      "outputs": [
        {
          "output_type": "execute_result",
          "data": {
            "text/plain": [
              "<matplotlib.axes._subplots.AxesSubplot at 0x7fd965acea50>"
            ]
          },
          "metadata": {
            "tags": []
          },
          "execution_count": 11
        },
        {
          "output_type": "display_data",
          "data": {
            "image/png": "[encoded data removed]",
            "text/plain": [
              "<Figure size 576x288 with 1 Axes>"
            ]
          },
          "metadata": {
            "tags": [],
            "needs_background": "light"
          }
        }
      ]
    },
    {
      "cell_type": "code",
      "metadata": {
        "colab": {
          "base_uri": "https://localhost:8080/",
          "height": 283
        },
        "id": "bvlh5aM1NbcW",
        "outputId": "d68d27ca-1e33-4dca-d385-cbff86d7f12f"
      },
      "source": [
        "# gradient boost \r\n",
        "GBresults = []\r\n",
        "n_estimators_options = [50, 100, 150, 200, 250, 300, 350, 400, 450, 500]\r\n",
        "\r\n",
        "for trees in n_estimators_options:\r\n",
        "  model = GradientBoostingClassifier(n_estimators = trees, random_state = 101)\r\n",
        "  model.fit(x_train, y_train)\r\n",
        "  y_pred = model.predict(x_test)\r\n",
        "  accuracy = np.mean(y_test == y_pred)\r\n",
        "  GBresults.append(accuracy)\r\n",
        "\r\n",
        "plt.figure(figsize = (8,4))\r\n",
        "pd.Series(GBresults, n_estimators_options).plot(color = 'darkred', marker = 'o')"
      ],
      "execution_count": null,
      "outputs": [
        {
          "output_type": "execute_result",
          "data": {
            "text/plain": [
              "<matplotlib.axes._subplots.AxesSubplot at 0x7fd9659ec2d0>"
            ]
          },
          "metadata": {
            "tags": []
          },
          "execution_count": 12
        },
        {
          "output_type": "display_data",
          "data": {
            "image/png": "[encoded data removed]",
            "text/plain": [
              "<Figure size 576x288 with 1 Axes>"
            ]
          },
          "metadata": {
            "tags": [],
            "needs_background": "light"
          }
        }
      ]
    },
    {
      "cell_type": "code",
      "metadata": {
        "colab": {
          "base_uri": "https://localhost:8080/",
          "height": 283
        },
        "id": "ocE12nTpNfwl",
        "outputId": "d3f4e060-dc6f-434b-a1f4-3a704284c06d"
      },
      "source": [
        "# xgb model \r\n",
        "XGBresults = []\r\n",
        "n_estimators_options = [50, 100, 150, 200, 250, 300, 350, 400, 450, 500]\r\n",
        "\r\n",
        "for trees in n_estimators_options:\r\n",
        "  model = XGBClassifier(n_estimators = trees, random_state = 101)\r\n",
        "  model.fit(x_train, y_train)\r\n",
        "  y_pred = model.predict(x_test)\r\n",
        "  accuracy = np.mean(y_test == y_pred)\r\n",
        "  XGBresults.append(accuracy)\r\n",
        "\r\n",
        "plt.figure(figsize = (8,4))\r\n",
        "pd.Series(XGBresults, n_estimators_options).plot(color = 'darkred', marker = 'o')"
      ],
      "execution_count": null,
      "outputs": [
        {
          "output_type": "execute_result",
          "data": {
            "text/plain": [
              "<matplotlib.axes._subplots.AxesSubplot at 0x7fd965b66150>"
            ]
          },
          "metadata": {
            "tags": []
          },
          "execution_count": 13
        },
        {
          "output_type": "display_data",
          "data": {
            "image/png": "[encoded data removed]",
            "text/plain": [
              "<Figure size 576x288 with 1 Axes>"
            ]
          },
          "metadata": {
            "tags": [],
            "needs_background": "light"
          }
        }
      ]
    },
    {
      "cell_type": "markdown",
      "metadata": {
        "id": "auDqMYlo4rtV"
      },
      "source": [
        "###5. Compare Performance "
      ]
    },
    {
      "cell_type": "code",
      "metadata": {
        "id": "uJ17r8Hd4BTS"
      },
      "source": [
        "n_estimators_options = [100]\r\n",
        "\r\n",
        "for trees in n_estimators_options:\r\n",
        "  # RFM\r\n",
        "  model = RandomForestClassifier(n_estimators = trees, random_state = 101)\r\n",
        "  model.fit(x_train, y_train)\r\n",
        "  y_pred = model.predict(x_test)\r\n",
        "  rfm_accuracy = np.mean(y_test == y_pred)\r\n",
        "  fpr, tpr, thresholds = roc_curve(y_test, y_pred)\r\n",
        "  rfm_auc = auc(fpr, tpr)\r\n",
        "  # AdaBoost\r\n",
        "  model = AdaBoostClassifier(n_estimators = trees, random_state = 101)\r\n",
        "  model.fit(x_train, y_train)\r\n",
        "  y_pred = model.predict(x_test)\r\n",
        "  ada_accuracy = np.mean(y_test == y_pred)\r\n",
        "  fpr, tpr, thresholds = roc_curve(y_test, y_pred)\r\n",
        "  ada_auc = auc(fpr, tpr)\r\n",
        "  # Gradient boost\r\n",
        "  model = GradientBoostingClassifier(n_estimators = trees, random_state = 101)\r\n",
        "  model.fit(x_train, y_train)\r\n",
        "  y_pred = model.predict(x_test)\r\n",
        "  gb_accuracy = np.mean(y_test == y_pred)\r\n",
        "  fpr, tpr, thresholds = roc_curve(y_test, y_pred)\r\n",
        "  gb_auc = auc(fpr, tpr)\r\n",
        "  # XGB\r\n",
        "  model = XGBClassifier(n_estimators = trees, random_state = 101)\r\n",
        "  model.fit(x_train, y_train)\r\n",
        "  y_pred = model.predict(x_test)\r\n",
        "  xgb_accuracy = np.mean(y_test == y_pred)\r\n",
        "  fpr, tpr, thresholds = roc_curve(y_test, y_pred)\r\n",
        "  xgb_auc = auc(fpr, tpr)"
      ],
      "execution_count": 28,
      "outputs": []
    },
    {
      "cell_type": "code",
      "metadata": {
        "colab": {
          "base_uri": "https://localhost:8080/",
          "height": 135
        },
        "id": "XuXYSdPNvuba",
        "outputId": "828dc711-31ab-4030-bd13-b936289919a1"
      },
      "source": [
        "data = {'Random Forest': (rfm_accuracy, rfm_auc, trees),\r\n",
        "        'AdaBoost': (ada_accuracy, ada_auc, trees), \r\n",
        "        'Gradient Boost': (gb_accuracy, gb_auc, trees),\r\n",
        "        'XGB': (xgb_accuracy, xgb_auc, trees)}\r\n",
        "df = pd.DataFrame(data, columns = ['Random Forest', 'AdaBoost', 'Gradient Boost', 'XGB'], index = ['Accuracy', 'AUC', 'Hyperparamter'])\r\n",
        "df"
      ],
      "execution_count": 30,
      "outputs": [
        {
          "output_type": "execute_result",
          "data": {
            "text/html": [
              "<div>\n",
              "<style scoped>\n",
              "    .dataframe tbody tr th:only-of-type {\n",
              "        vertical-align: middle;\n",
              "    }\n",
              "\n",
              "    .dataframe tbody tr th {\n",
              "        vertical-align: top;\n",
              "    }\n",
              "\n",
              "    .dataframe thead th {\n",
              "        text-align: right;\n",
              "    }\n",
              "</style>\n",
              "<table border=\"1\" class=\"dataframe\">\n",
              "  <thead>\n",
              "    <tr style=\"text-align: right;\">\n",
              "      <th></th>\n",
              "      <th>Random Forest</th>\n",
              "      <th>AdaBoost</th>\n",
              "      <th>Gradient Boost</th>\n",
              "      <th>XGB</th>\n",
              "    </tr>\n",
              "  </thead>\n",
              "  <tbody>\n",
              "    <tr>\n",
              "      <th>Accuracy</th>\n",
              "      <td>0.838093</td>\n",
              "      <td>0.845341</td>\n",
              "      <td>0.846447</td>\n",
              "      <td>0.846508</td>\n",
              "    </tr>\n",
              "    <tr>\n",
              "      <th>AUC</th>\n",
              "      <td>0.746653</td>\n",
              "      <td>0.746549</td>\n",
              "      <td>0.756791</td>\n",
              "      <td>0.756113</td>\n",
              "    </tr>\n",
              "    <tr>\n",
              "      <th>Hyperparamter</th>\n",
              "      <td>100.000000</td>\n",
              "      <td>100.000000</td>\n",
              "      <td>100.000000</td>\n",
              "      <td>100.000000</td>\n",
              "    </tr>\n",
              "  </tbody>\n",
              "</table>\n",
              "</div>"
            ],
            "text/plain": [
              "               Random Forest    AdaBoost  Gradient Boost         XGB\n",
              "Accuracy            0.838093    0.845341        0.846447    0.846508\n",
              "AUC                 0.746653    0.746549        0.756791    0.756113\n",
              "Hyperparamter     100.000000  100.000000      100.000000  100.000000"
            ]
          },
          "metadata": {
            "tags": []
          },
          "execution_count": 30
        }
      ]
    }
  ]
}